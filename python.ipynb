{
 "cells": [
  {
   "cell_type": "code",
   "execution_count": 3,
   "id": "3abcc115",
   "metadata": {},
   "outputs": [],
   "source": [
    "import statistics\n",
    "p = [2,4,4,4,5,5,7,9]"
   ]
  },
  {
   "cell_type": "code",
   "execution_count": 4,
   "id": "ec2059c1",
   "metadata": {},
   "outputs": [
    {
     "data": {
      "text/plain": [
       "5"
      ]
     },
     "execution_count": 4,
     "metadata": {},
     "output_type": "execute_result"
    }
   ],
   "source": [
    "statistics.mean(p)"
   ]
  },
  {
   "cell_type": "code",
   "execution_count": 6,
   "id": "f4d08ec4",
   "metadata": {},
   "outputs": [],
   "source": [
    "import numpy as np"
   ]
  },
  {
   "cell_type": "code",
   "execution_count": 7,
   "id": "b808b961",
   "metadata": {},
   "outputs": [],
   "source": [
    "q = [2,4,4,4,5,5,7,9]"
   ]
  },
  {
   "cell_type": "code",
   "execution_count": 8,
   "id": "68ca1771",
   "metadata": {},
   "outputs": [
    {
     "data": {
      "text/plain": [
       "5.0"
      ]
     },
     "execution_count": 8,
     "metadata": {},
     "output_type": "execute_result"
    }
   ],
   "source": [
    "np.mean(q)"
   ]
  },
  {
   "cell_type": "code",
   "execution_count": 9,
   "id": "0bc08f22",
   "metadata": {},
   "outputs": [
    {
     "data": {
      "text/plain": [
       "2.0"
      ]
     },
     "execution_count": 9,
     "metadata": {},
     "output_type": "execute_result"
    }
   ],
   "source": [
    "np.std(q)"
   ]
  },
  {
   "cell_type": "code",
   "execution_count": 10,
   "id": "837b5bb0",
   "metadata": {},
   "outputs": [
    {
     "data": {
      "text/plain": [
       "4.5"
      ]
     },
     "execution_count": 10,
     "metadata": {},
     "output_type": "execute_result"
    }
   ],
   "source": [
    "np.median(q)"
   ]
  },
  {
   "cell_type": "code",
   "execution_count": 11,
   "id": "e26c6abd",
   "metadata": {},
   "outputs": [
    {
     "data": {
      "text/plain": [
       "2"
      ]
     },
     "execution_count": 11,
     "metadata": {},
     "output_type": "execute_result"
    }
   ],
   "source": [
    "np.min(q)"
   ]
  },
  {
   "cell_type": "code",
   "execution_count": 12,
   "id": "14a494f7",
   "metadata": {},
   "outputs": [
    {
     "data": {
      "text/plain": [
       "9"
      ]
     },
     "execution_count": 12,
     "metadata": {},
     "output_type": "execute_result"
    }
   ],
   "source": [
    "np.max(q)"
   ]
  },
  {
   "cell_type": "code",
   "execution_count": 13,
   "id": "f5be2213",
   "metadata": {},
   "outputs": [
    {
     "data": {
      "text/plain": [
       "4.0"
      ]
     },
     "execution_count": 13,
     "metadata": {},
     "output_type": "execute_result"
    }
   ],
   "source": [
    "np.percentile(p,25)"
   ]
  },
  {
   "cell_type": "code",
   "execution_count": 19,
   "id": "b0dfb746",
   "metadata": {},
   "outputs": [],
   "source": [
    "import matplotlib.pyplot as plt\n",
    "p = [2,4,4,4,5,5,7,9]\n",
    "q = [10,13,15,14,13,16,18,21]\n",
    "x = [1,2,3,4,5,6,7,8]"
   ]
  },
  {
   "cell_type": "code",
   "execution_count": 20,
   "id": "e6923c21",
   "metadata": {},
   "outputs": [
    {
     "data": {
      "image/png": "[encoded data removed]",
      "text/plain": [
       "<Figure size 432x288 with 1 Axes>"
      ]
     },
     "metadata": {
      "needs_background": "light"
     },
     "output_type": "display_data"
    }
   ],
   "source": [
    "plt.scatter(x,p,color='r', marker='o')\n",
    "plt.scatter(x,q,color='b', marker='*')\n",
    "plt.title('Corelation between P and Q')\n",
    "plt.xlabel('Range')\n",
    "plt.ylabel('Value')\n",
    "plt.legend((p,q), loc='upper left')\n",
    "plt.show()"
   ]
  },
  {
   "cell_type": "code",
   "execution_count": 2,
   "id": "df46e7bd",
   "metadata": {},
   "outputs": [],
   "source": [
    "import numpy as np"
   ]
  },
  {
   "cell_type": "code",
   "execution_count": 3,
   "id": "fd7d437f",
   "metadata": {},
   "outputs": [],
   "source": [
    "q = [2,4,4,4,5,5,7,9]"
   ]
  },
  {
   "cell_type": "code",
   "execution_count": 4,
   "id": "85215875",
   "metadata": {},
   "outputs": [
    {
     "data": {
      "text/plain": [
       "4.0"
      ]
     },
     "execution_count": 4,
     "metadata": {},
     "output_type": "execute_result"
    }
   ],
   "source": [
    "np.var(q)"
   ]
  },
  {
   "cell_type": "code",
   "execution_count": 5,
   "id": "d692c58d",
   "metadata": {},
   "outputs": [],
   "source": [
    "p = [2,4,4,4,5,5,7,9]\n",
    "q = [10,13,15,14,13,16,18,21]"
   ]
  },
  {
   "cell_type": "code",
   "execution_count": 6,
   "id": "223018b0",
   "metadata": {},
   "outputs": [
    {
     "data": {
      "text/plain": [
       "array([[ 4.57142857,  6.85714286],\n",
       "       [ 6.85714286, 11.42857143]])"
      ]
     },
     "execution_count": 6,
     "metadata": {},
     "output_type": "execute_result"
    }
   ],
   "source": [
    "np.cov(p,q)"
   ]
  },
  {
   "cell_type": "code",
   "execution_count": 7,
   "id": "93b85a48",
   "metadata": {},
   "outputs": [
    {
     "data": {
      "text/plain": [
       "4.571428571428571"
      ]
     },
     "execution_count": 7,
     "metadata": {},
     "output_type": "execute_result"
    }
   ],
   "source": [
    "np.cov(p,q)[0,0]"
   ]
  },
  {
   "cell_type": "code",
   "execution_count": 8,
   "id": "dc882b83",
   "metadata": {},
   "outputs": [
    {
     "data": {
      "text/plain": [
       "array([[1.       , 0.9486833],\n",
       "       [0.9486833, 1.       ]])"
      ]
     },
     "execution_count": 8,
     "metadata": {},
     "output_type": "execute_result"
    }
   ],
   "source": [
    "np.corrcoef(p,q)"
   ]
  },
  {
   "cell_type": "code",
   "execution_count": null,
   "id": "1f0710e8",
   "metadata": {},
   "outputs": [],
   "source": []
  }
 ],
 "metadata": {
  "kernelspec": {
   "display_name": "Python 3",
   "language": "python",
   "name": "python3"
  },
  "language_info": {
   "codemirror_mode": {
    "name": "ipython",
    "version": 3
   },
   "file_extension": ".py",
   "mimetype": "text/x-python",
   "name": "python",
   "nbconvert_exporter": "python",
   "pygments_lexer": "ipython3",
   "version": "3.8.8"
  }
 },
 "nbformat": 4,
 "nbformat_minor": 5
}
